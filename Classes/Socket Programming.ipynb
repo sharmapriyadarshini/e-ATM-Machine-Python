{
 "cells": [
  {
   "cell_type": "markdown",
   "metadata": {},
   "source": [
    "# SOCKET PROGRAMMING:"
   ]
  },
  {
   "cell_type": "code",
   "execution_count": null,
   "metadata": {},
   "outputs": [],
   "source": [
    "import socket\n",
    "tcpSocket = socket.socket(socket.AF_INET, socket.SOCK_STREAM) #It should be a tcp based socket\n",
    "tcpSocket.bind((\"0.0.0.0\",4444))\n",
    "tcpSocket.listen(2)\n",
    "(client, (ip, port)) = tcpSocket.accept() #any other name could be given where client is written eg ash.\n",
    "print (\"Listen from incomming connections at port 3333....\")\n",
    "print (\"recieved a connection from\" + str(ip) + \";\" + str(port))"
   ]
  },
  {
   "cell_type": "code",
   "execution_count": null,
   "metadata": {},
   "outputs": [],
   "source": [
    "client.send(\"hello this is the server\")"
   ]
  },
  {
   "cell_type": "markdown",
   "metadata": {},
   "source": [
    "# Echo Of Messages:"
   ]
  },
  {
   "cell_type": "code",
   "execution_count": null,
   "metadata": {},
   "outputs": [],
   "source": [
    "import socket\n",
    "cl = socket.socket(socket.AF_INET, socket.SOCK_STREAM)\n",
    "cl.connect(\"192.168.43.65\",4446)\n",
    "data = \"dummy\"\n",
    "while len(data):\n",
    "    data = cl.recv(2048)\n",
    "    print data\n",
    "    cl.send(data)\n",
    "cl.close()"
   ]
  },
  {
   "cell_type": "markdown",
   "metadata": {},
   "source": [
    "# Echo Of messages \"SERVER\":"
   ]
  },
  {
   "cell_type": "code",
   "execution_count": null,
   "metadata": {},
   "outputs": [],
   "source": [
    "import socket\n",
    "tcpSocket = socket.socket(socket.AF_INET, socket.SOCK_STREAM) #It should be a tcp based socket\n",
    "tcpSocket.bind((\"\",4444))\n",
    "tcpSocket.listen(2)\n",
    "(client, (ip, port)) = tcpSocket.accept() #any other name could be given where client is written eg ash.\n",
    "print \"Listen from incomming connections at port 3333....\"\n",
    "print \"recieved a connection from\" + str(ip) + \";\" + str(port)\n",
    "data = \"dummy\"\n",
    "while len(data):\n",
    "    data = tcp.recv(2048)\n",
    "    print data\n",
    "    tcp.send(data)\n",
    "tcp.close()"
   ]
  },
  {
   "cell_type": "markdown",
   "metadata": {},
   "source": [
    "# Raw Input From One User:"
   ]
  },
  {
   "cell_type": "code",
   "execution_count": null,
   "metadata": {},
   "outputs": [],
   "source": [
    "import socket\n",
    "cl = socket.socket(socket.AF_INET, socket.SOCK_STREAM)\n",
    "cl.connect((\"192.168.43.65\",4446))\n",
    "data = \"dummy\"\n",
    "while len(data):\n",
    "    data = cl.recv(2048)\n",
    "    print data\n",
    "    cl.send(raw_input(\"Enter your message:\"))\n",
    "cl.close()"
   ]
  },
  {
   "cell_type": "markdown",
   "metadata": {},
   "source": [
    "# To find IP Address:"
   ]
  },
  {
   "cell_type": "code",
   "execution_count": null,
   "metadata": {},
   "outputs": [],
   "source": [
    "import socket\n",
    "def remote_machine_info():\n",
    "    remote_host = raw_input(\"Enter the name of machine whose IP you want to get:\")\n",
    "    remote_ip = socket.gethostbyname(remote_host)\n",
    "    try:\n",
    "        print(\"IP Address of remote machnine is:\", remote_ip)\n",
    "    except:\n",
    "        print(\"Sorry! error grabbing IP Address of host you mentioned\")"
   ]
  },
  {
   "cell_type": "code",
   "execution_count": null,
   "metadata": {},
   "outputs": [],
   "source": [
    "remote_machine_info()"
   ]
  },
  {
   "cell_type": "code",
   "execution_count": null,
   "metadata": {},
   "outputs": [],
   "source": [
    "import socket\n",
    "def connect():\n",
    "    s = socket.socket(socket.AF_INET, socket.SOCK_STREAM)\n",
    "    s.setsockopt(socket.SOL_SOCKET, socket.SO_REUSEADDR, 1)\n",
    "    s.bind((\"172.20.10.2\", 4444))\n",
    "    s.listen(2)\n",
    "    print \"listening for incoming TCP connection on port 4444\"\n",
    "    conn, addr = s.accept()\n",
    "    print \"we got a connection from:\", addr\n",
    "    while True:\n",
    "        command = raw_input(\"shell<\")\n",
    "        if 'terminting' in command:\n",
    "            conn.send(\"terminate\")\n",
    "            conn.close()\n",
    "        else:\n",
    "            conn.send(command)\n",
    "            print conn.recv(2048)\n",
    "def main():\n",
    "    connect()\n"
   ]
  },
  {
   "cell_type": "markdown",
   "metadata": {},
   "source": [
    "main()"
   ]
  },
  {
   "cell_type": "code",
   "execution_count": null,
   "metadata": {},
   "outputs": [],
   "source": []
  }
 ],
 "metadata": {
  "kernelspec": {
   "display_name": "Python 3 (ipykernel)",
   "language": "python",
   "name": "python3"
  },
  "language_info": {
   "codemirror_mode": {
    "name": "ipython",
    "version": 3
   },
   "file_extension": ".py",
   "mimetype": "text/x-python",
   "name": "python",
   "nbconvert_exporter": "python",
   "pygments_lexer": "ipython3",
   "version": "3.11.3"
  }
 },
 "nbformat": 4,
 "nbformat_minor": 2
}
